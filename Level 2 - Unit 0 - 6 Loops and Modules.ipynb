{
 "cells": [
  {
   "cell_type": "markdown",
   "metadata": {},
   "source": [
    "# **Loops and Modules**\n",
    "\n",
    "![Hello!](https://i.imgur.com/xgz9nkR.gif)"
   ]
  },
  {
   "cell_type": "markdown",
   "metadata": {},
   "source": [
    "# Skills\n",
    "* use `for` and `while` loops like a boss\n",
    "* loop by numbers other than one\n",
    "* use modules like `random`\n",
    "* know where to find MORE modules and libraries"
   ]
  },
  {
   "cell_type": "markdown",
   "metadata": {},
   "source": [
    "---\n",
    "# Loops\n",
    "![From programarcadegames.com](http://programarcadegames.com/chapters/04_loops/game_loop.png)"
   ]
  },
  {
   "cell_type": "markdown",
   "metadata": {},
   "source": [
    "## **`for` loops**\n",
    "`for` loops are constructs that we can use to repeat code.\n",
    "\n",
    "For example, let's print something out multiple times."
   ]
  },
  {
   "cell_type": "code",
   "execution_count": null,
   "metadata": {
    "tags": []
   },
   "outputs": [],
   "source": [
    "# print five times\n",
    "for i in range(0, 5)\n",
    "    print(\"Lol\", i)"
   ]
  },
  {
   "cell_type": "code",
   "execution_count": null,
   "metadata": {
    "tags": []
   },
   "outputs": [],
   "source": []
  },
  {
   "cell_type": "code",
   "execution_count": null,
   "metadata": {
    "tags": []
   },
   "outputs": [],
   "source": [
    "# print the numbers from 1 to 10\n",
    "for i in range(10):\n",
    "    print(1 + i)"
   ]
  },
  {
   "cell_type": "code",
   "execution_count": null,
   "metadata": {
    "tags": []
   },
   "outputs": [],
   "source": [
    "# print numbers from 1 to 10, v2\n",
    "for i in range (1, 11)\n",
    "print(i)"
   ]
  },
  {
   "cell_type": "markdown",
   "metadata": {},
   "source": [
    "### Counting by numbers other than one\n",
    "There are ways we can use `range` to count by numbers other than one."
   ]
  },
  {
   "cell_type": "code",
   "execution_count": null,
   "metadata": {
    "tags": []
   },
   "outputs": [],
   "source": [
    "# count even numbers 2 to 10\n",
    "# range(<start>, <stop>, <step>)\n",
    "for i in range (2, 11, 3):\n",
    "    print(i)"
   ]
  },
  {
   "cell_type": "code",
   "execution_count": 1,
   "metadata": {
    "tags": []
   },
   "outputs": [
    {
     "name": "stdout",
     "output_type": "stream",
     "text": [
      "2\n",
      "4\n",
      "6\n",
      "8\n",
      "10\n"
     ]
    }
   ],
   "source": [
    "# count even numbers 2 to 10, v2\n",
    "for i in range(5):\n",
    "    print((i+1) *2)"
   ]
  },
  {
   "cell_type": "code",
   "execution_count": null,
   "metadata": {
    "tags": []
   },
   "outputs": [],
   "source": [
    "# count backwards from 10 to 1\n",
    "for i in range(10, 0, -1):\n",
    "    print(i)"
   ]
  },
  {
   "cell_type": "code",
   "execution_count": 3,
   "metadata": {},
   "outputs": [
    {
     "data": {
      "text/plain": [
       "[0, 1, 2, 3, 4, 5, 6, 7, 8, 9]"
      ]
     },
     "execution_count": 3,
     "metadata": {},
     "output_type": "execute_result"
    }
   ],
   "source": [
    "# iterable --> iterate over it\n",
    "#          --> can cast as list\n",
    "list(range(1, 10))"
   ]
  },
  {
   "cell_type": "markdown",
   "metadata": {},
   "source": [
    "# **Lists and Loops**"
   ]
  },
  {
   "cell_type": "markdown",
   "metadata": {
    "tags": []
   },
   "source": [
    "### *Lists*\n",
    "\n",
    "Lists are a type of _data structure_\n",
    "* an ordered collection of values or types\n",
    "* use '[]' to surround our list contents\n",
    "* use \",\" to separate individual elements\n",
    "\n",
    "If you want to use LARGE lists, use 'numpy''s '.arr'"
   ]
  },
  {
   "cell_type": "code",
   "execution_count": 4,
   "metadata": {
    "tags": []
   },
   "outputs": [
    {
     "data": {
      "text/plain": [
       "65.88888888888889"
      ]
     },
     "execution_count": 4,
     "metadata": {},
     "output_type": "execute_result"
    }
   ],
   "source": [
    "# Lists\n",
    "# name variable for lists as a PLURAL\n",
    "\n",
    "percentages = [90, 91, 0, 0, 68, 86, 86, 86, 86]\n",
    "\n",
    "# calculate the average percentage\n",
    "\n",
    "# for <element> in <list>:\n",
    "#    <body>\n",
    "\n",
    "total = 0\n",
    "\n",
    "for percent in percentages:\n",
    "    total += percent\n",
    "    \n",
    "average = total / len(percentages)\n",
    "average"
   ]
  },
  {
   "cell_type": "code",
   "execution_count": null,
   "metadata": {
    "tags": []
   },
   "outputs": [],
   "source": [
    "# calculating averages version 2\n",
    "percentages = [90, 91, 0, 0, 68, 86, 86, 86, 86]\n",
    "\n",
    "average = sum(percentages)/len(percentages)\n",
    "average"
   ]
  },
  {
   "cell_type": "markdown",
   "metadata": {},
   "source": [
    "### Application of `for` Loops\n",
    "We want to add up all the numbers from 1 to 100."
   ]
  },
  {
   "cell_type": "code",
   "execution_count": 7,
   "metadata": {
    "tags": []
   },
   "outputs": [
    {
     "data": {
      "text/plain": [
       "5050"
      ]
     },
     "execution_count": 7,
     "metadata": {},
     "output_type": "execute_result"
    }
   ],
   "source": [
    "total = 0\n",
    "\n",
    "for i in range(1, 101):\n",
    "    total +=i\n",
    "    \n",
    "total"
   ]
  },
  {
   "cell_type": "code",
   "execution_count": 6,
   "metadata": {
    "tags": []
   },
   "outputs": [
    {
     "data": {
      "text/plain": [
       "5050"
      ]
     },
     "execution_count": 6,
     "metadata": {},
     "output_type": "execute_result"
    }
   ],
   "source": [
    "sum(range(1, 101))"
   ]
  },
  {
   "cell_type": "markdown",
   "metadata": {},
   "source": [
    "## **List Comprehension**"
   ]
  },
  {
   "cell_type": "code",
   "execution_count": 11,
   "metadata": {},
   "outputs": [
    {
     "data": {
      "text/plain": [
       "[1, 2, 3, 4, 5, 6, 7, 8, 9, 10]"
      ]
     },
     "execution_count": 11,
     "metadata": {},
     "output_type": "execute_result"
    }
   ],
   "source": [
    "# create a list containing numbers from 1-10\n",
    "one_to_ten = []\n",
    "\n",
    "for i in range(10):\n",
    "    one_to_ten.append(i+1)\n",
    "#    one_to_ten += [i+1]    \n",
    "one_to_ten"
   ]
  },
  {
   "cell_type": "code",
   "execution_count": 8,
   "metadata": {},
   "outputs": [
    {
     "data": {
      "text/plain": [
       "[1, 2, 3, 4, 5, 6, 7, 8, 9, 10]"
      ]
     },
     "execution_count": 8,
     "metadata": {},
     "output_type": "execute_result"
    }
   ],
   "source": [
    "one_to_ten = [i+1 for i in range(10)]\n",
    "one_to_ten"
   ]
  },
  {
   "cell_type": "code",
   "execution_count": null,
   "metadata": {},
   "outputs": [],
   "source": [
    "# List of powers of 2 from 0-50 (2^0, 2^1, ..., 2^50)\n",
    "powers_of_two = [2**i in range (51)]"
   ]
  },
  {
   "cell_type": "code",
   "execution_count": 10,
   "metadata": {},
   "outputs": [
    {
     "data": {
      "text/plain": [
       "['John Lee', 'Johannes Lee', 'Trung Lee', 'Pablo Lee', 'Anastasia Lee']"
      ]
     },
     "execution_count": 10,
     "metadata": {},
     "output_type": "execute_result"
    }
   ],
   "source": [
    "names = [\"John\", \"Johannes\", \"Trung\", \"Pablo\", \"Anastasia\"]\n",
    "\n",
    "names_with_family_names = [name + \" Lee\" for name in names]\n",
    "names_with_family_names"
   ]
  },
  {
   "cell_type": "code",
   "execution_count": 12,
   "metadata": {},
   "outputs": [
    {
     "data": {
      "text/plain": [
       "[0,\n",
       " 0,\n",
       " 0,\n",
       " 0,\n",
       " 0,\n",
       " 0,\n",
       " 0,\n",
       " 0,\n",
       " 0,\n",
       " 0,\n",
       " 0,\n",
       " 0,\n",
       " 0,\n",
       " 0,\n",
       " 0,\n",
       " 0,\n",
       " 0,\n",
       " 0,\n",
       " 0,\n",
       " 0,\n",
       " 0,\n",
       " 0,\n",
       " 0,\n",
       " 0,\n",
       " 0,\n",
       " 0,\n",
       " 0,\n",
       " 0,\n",
       " 0,\n",
       " 0,\n",
       " 0,\n",
       " 0,\n",
       " 0,\n",
       " 0,\n",
       " 0,\n",
       " 0,\n",
       " 0,\n",
       " 0,\n",
       " 0,\n",
       " 0,\n",
       " 0,\n",
       " 0,\n",
       " 0,\n",
       " 0,\n",
       " 0,\n",
       " 0,\n",
       " 0,\n",
       " 0,\n",
       " 0,\n",
       " 0,\n",
       " 0,\n",
       " 0,\n",
       " 0,\n",
       " 0,\n",
       " 0,\n",
       " 0,\n",
       " 0,\n",
       " 0,\n",
       " 0,\n",
       " 0,\n",
       " 0,\n",
       " 0,\n",
       " 0,\n",
       " 0,\n",
       " 0,\n",
       " 0,\n",
       " 0,\n",
       " 0,\n",
       " 0,\n",
       " 0,\n",
       " 0,\n",
       " 0,\n",
       " 0,\n",
       " 0,\n",
       " 0,\n",
       " 0,\n",
       " 0,\n",
       " 0,\n",
       " 0,\n",
       " 0,\n",
       " 0,\n",
       " 0,\n",
       " 0,\n",
       " 0,\n",
       " 0,\n",
       " 0,\n",
       " 0,\n",
       " 0,\n",
       " 0,\n",
       " 0,\n",
       " 0,\n",
       " 0,\n",
       " 0,\n",
       " 0,\n",
       " 0,\n",
       " 0,\n",
       " 0,\n",
       " 0,\n",
       " 0,\n",
       " 0]"
      ]
     },
     "execution_count": 12,
     "metadata": {},
     "output_type": "execute_result"
    }
   ],
   "source": [
    "# Initialize an arbitrarily sized list\n",
    "# 100 x 0\n",
    "zeroes = [0] * 100\n",
    "zeroes\n"
   ]
  },
  {
   "cell_type": "markdown",
   "metadata": {},
   "source": [
    "---\n",
    "## **`while` loops**\n",
    "`while` loops are used when you don't know how many times you want to loop."
   ]
  },
  {
   "cell_type": "code",
   "execution_count": null,
   "metadata": {},
   "outputs": [],
   "source": [
    "# infinite loop\n",
    "\n",
    "while True:\n",
    "    print(\"Hi!\")"
   ]
  },
  {
   "cell_type": "code",
   "execution_count": null,
   "metadata": {
    "tags": []
   },
   "outputs": [],
   "source": [
    "# loop until the user gives a certain input\n",
    "\n",
    "done = False\n",
    "\n",
    "while not done:\n",
    "        response = input(\"Do you want to quit? (y/n)\")\n",
    "        \n",
    "        if response.lower() in [\"yes\",\"y\"]:\n",
    "            done = True\n",
    "            print(\"We're done!\")"
   ]
  },
  {
   "cell_type": "markdown",
   "metadata": {},
   "source": [
    "## **'enumerate()'**\n",
    "\n",
    "'enumerate()' allows us to iterate over a list and keep track of its index (location)"
   ]
  },
  {
   "cell_type": "code",
   "execution_count": 14,
   "metadata": {},
   "outputs": [
    {
     "name": "stdout",
     "output_type": "stream",
     "text": [
      "['Canada', 'United States', 'Mexico']\n",
      "['Canada', 'USA', 'Mexico']\n"
     ]
    }
   ],
   "source": [
    "countries = [\"Canada\", \"United States\", \"Mexico\"]\n",
    "\n",
    "# United States -> USA\n",
    "# list(enumerate(countries)) # how enumerate looks\n",
    "\n",
    "print(countries)\n",
    "\n",
    "for index, country in enumerate(countries):\n",
    "    # find the united states then change\n",
    "    if country == \"United States\":\n",
    "        countries[index] = \"USA\"\n",
    "        \n",
    "print(countries)"
   ]
  },
  {
   "cell_type": "markdown",
   "metadata": {},
   "source": [
    "### `random` module and modules in general\n",
    "**Modules** are tools that others have created to make our lives easier.\n",
    "\n",
    "For example, `random` includes a library of tools that have to do with randomness."
   ]
  },
  {
   "cell_type": "code",
   "execution_count": 16,
   "metadata": {
    "tags": []
   },
   "outputs": [
    {
     "name": "stdout",
     "output_type": "stream",
     "text": [
      "tails\n"
     ]
    }
   ],
   "source": [
    "import random\n",
    "\n",
    "random.randrange(1, 50)\n",
    "\n",
    "random.random()\n",
    "\n",
    "if random.random() <0.5:\n",
    "    print(\"heads\")\n",
    "else:\n",
    "    print(\"tails\")"
   ]
  },
  {
   "cell_type": "code",
   "execution_count": null,
   "metadata": {
    "tags": []
   },
   "outputs": [],
   "source": [
    "# generates a float between\n",
    "# .5 and 1.7\n",
    "random.uniform(.5, 1.7)"
   ]
  },
  {
   "cell_type": "code",
   "execution_count": null,
   "metadata": {},
   "outputs": [],
   "source": [
    "# DnD\n",
    "random.randrange(1, 9) #1d8"
   ]
  },
  {
   "cell_type": "markdown",
   "metadata": {},
   "source": [
    "## **Finding New Modules**\n",
    "\n",
    "There are SOOO MANY COOL modules out there\n",
    "\n",
    "Use the GOOGLES to find new modules if you're ever wanting to create something.\n",
    "\n",
    "Once you've found a module that you like, install it with `pip`.\n",
    "\n",
    "`pip install --user <nameofmodule>`\n",
    "    \n",
    "Modules we're going to take a look at:\n",
    "* pyperclip (access the clipboard to cut/copy and paste)\n",
    "* requests (http protocols -- get web stuff)\n",
    "* bs4 - beautiful soup (markup parser)"
   ]
  },
  {
   "cell_type": "markdown",
   "metadata": {},
   "source": [
    "---\n",
    "## **Exercise**\n",
    "\n",
    "For each of these problems, create a new Python file.  \n",
    "Be sure to name the file correctly."
   ]
  },
  {
   "cell_type": "markdown",
   "metadata": {},
   "source": [
    "### 1. Number Pyramid\n",
    "`lastname_initial_01pyramid.py`\n",
    "\n",
    "Write a Python program that will print the following:\n",
    "\n",
    "`  \n",
    "10  \n",
    "11 12  \n",
    "13 14 15  \n",
    "16 17 18 19  \n",
    "20 21 22 23 24  \n",
    "25 26 27 28 29 30  \n",
    "31 32 33 34 35 36 37  \n",
    "38 39 40 41 42 43 44 45  \n",
    "46 47 48 49 50 51 52 53 54`"
   ]
  },
  {
   "cell_type": "markdown",
   "metadata": {},
   "source": [
    "## 2. Big Box\n",
    "Filename: `lastname_initial_02bigbox.py`\n",
    "\n",
    "Create a box out of n rows of letter o's for any size n. Get the n value using the `input()` from the user. (Remember to cast that as an `int`).\n",
    "\n",
    "`E.g. n = 3\n",
    "oooooo\n",
    "o    o\n",
    "oooooo`\n",
    " \n",
    "`E.g. n = 8\n",
    "oooooooooooooooo\n",
    "o              o\n",
    "o              o\n",
    "o              o\n",
    "o              o\n",
    "o              o\n",
    "o              o\n",
    "oooooooooooooooo`\n",
    "\n",
    "Hint: break the problem up into parts\n",
    "* Trying building the top of the box, then the bottom\n",
    "* Then once you've done that, create the sides"
   ]
  }
 ],
 "metadata": {
  "kernelspec": {
   "display_name": "Python 3",
   "language": "python",
   "name": "python3"
  },
  "language_info": {
   "codemirror_mode": {
    "name": "ipython",
    "version": 3
   },
   "file_extension": ".py",
   "mimetype": "text/x-python",
   "name": "python",
   "nbconvert_exporter": "python",
   "pygments_lexer": "ipython3",
   "version": "3.8.2"
  }
 },
 "nbformat": 4,
 "nbformat_minor": 4
}
